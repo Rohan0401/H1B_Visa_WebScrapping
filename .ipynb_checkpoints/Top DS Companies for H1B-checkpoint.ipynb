{
 "cells": [
  {
   "cell_type": "markdown",
   "metadata": {},
   "source": [
    "## Finding Insight of H1B \n",
    "### Author : Rohan Singh Rajput\n",
    "### Website : [https://rohan0401.github.io/](https://rohan0401.github.io/)\n",
    "\n",
    "#### Description : \n",
    "This is a python based visualization project for the H1B visa analysis, this is created to get some insight of the different companies who filed for the H1B visa last year. The data is collected from myvisa website. This is just a demostration to get some insight of the last year work visa comapanies. The proejct is not fully complete and I would be happy to take your suggestion for this. Plase fork my github repo for any further enhancement of this project."
   ]
  },
  {
   "cell_type": "markdown",
   "metadata": {},
   "source": [
    "* Before starting our project lets start with some libraries. These libraries help to get the work done in effective manners"
   ]
  },
  {
   "cell_type": "code",
   "execution_count": 51,
   "metadata": {},
   "outputs": [
    {
     "name": "stderr",
     "output_type": "stream",
     "text": [
      "IOPub data rate exceeded.\n",
      "The notebook server will temporarily stop sending output\n",
      "to the client in order to avoid crashing it.\n",
      "To change this limit, set the config variable\n",
      "`--NotebookApp.iopub_data_rate_limit`.\n"
     ]
    }
   ],
   "source": [
    "import urllib3 # Module to fetch web info \n",
    "from bs4 import BeautifulSoup # To clear the html data \n",
    "import pandas as pd # To analyse the analyse\n",
    "import matplotlib.pyplot as plt # To draw plots\n",
    "import numpy as np # Mathematics\n",
    "import plotly.plotly as py # Interactive plots\n",
    "import plotly.graph_objs as go \n",
    "from plotly.offline import download_plotlyjs, init_notebook_mode, plot, iplot # Offline mode\n",
    "init_notebook_mode\n",
    "import plotly\n",
    "plotly.offline.init_notebook_mode()\n",
    "import math # To perform math operation\n",
    "import seaborn as sns # Visualization library\n",
    "%matplotlib inline \n",
    "import warnings\n",
    "warnings.filterwarnings(\"ignore\")"
   ]
  },
  {
   "cell_type": "markdown",
   "metadata": {},
   "source": [
    "## Being a Data Science lover lets start it with some intresting steps \n",
    "**Data extreaction and cleaning** – We will extract the data using python request library. Keeping in mind that the data we get form the website is not in plain text format. so we will use following procedure to deal with this type of data. \n",
    " - First the data will be fetched from the website using request module, it will provide us the data in html format.\n",
    " - This data will be parsed using Beautiful Soup python module which can provide us data for respective tags.\n",
    " - After getting the right the table data would be paresed into pandas dataframe"
   ]
  },
  {
   "cell_type": "code",
   "execution_count": 2,
   "metadata": {
    "collapsed": true
   },
   "outputs": [],
   "source": [
    "url = 'https://www.myvisajobs.com/Reports/2017-H1B-Visa-Category.aspx?T=JT' # This is the url of the website where we will pull the data\n",
    "number_of_page = 4"
   ]
  },
  {
   "cell_type": "code",
   "execution_count": 3,
   "metadata": {
    "collapsed": true
   },
   "outputs": [],
   "source": [
    "def get_info(url):\n",
    "    \"\"\"\n",
    "       \n",
    "    This function takes cleans and transform the html data into pandas dataframe\n",
    "    param    \n",
    "    url    : Url for the website \n",
    "    return : Dataframes cotaning the data \n",
    "    \"\"\"\n",
    "    https = urllib3.PoolManager()\n",
    "    r = https.request('GET', url)\n",
    "    process = r.data\n",
    "    soup = BeautifulSoup(process, 'html.parser')\n",
    "    right_table = soup.find('table', class_ = 'tbl')\n",
    "    A=[]\n",
    "    B=[]\n",
    "    C=[]\n",
    "    D=[]\n",
    "    for row in right_table.findAll(\"tr\"):\n",
    "        cells = row.findAll('td')\n",
    "        if len(cells)> 1: #Only extract table body not heading\n",
    "            A.append(cells[0].find(text=True))\n",
    "            B.append(cells[1].find(text=True))\n",
    "            C.append(cells[2].find(text=True))\n",
    "            D.append(cells[3].find(text=True))\n",
    "    return A , B , C ,D\n",
    "    \n",
    "    "
   ]
  },
  {
   "cell_type": "markdown",
   "metadata": {},
   "source": [
    "This collect the data and merge into single dataframe "
   ]
  },
  {
   "cell_type": "code",
   "execution_count": 4,
   "metadata": {},
   "outputs": [
    {
     "name": "stderr",
     "output_type": "stream",
     "text": [
      "/usr/local/lib/python3.5/dist-packages/urllib3/connectionpool.py:858: InsecureRequestWarning:\n",
      "\n",
      "Unverified HTTPS request is being made. Adding certificate verification is strongly advised. See: https://urllib3.readthedocs.io/en/latest/advanced-usage.html#ssl-warnings\n",
      "\n",
      "/usr/local/lib/python3.5/dist-packages/urllib3/connectionpool.py:858: InsecureRequestWarning:\n",
      "\n",
      "Unverified HTTPS request is being made. Adding certificate verification is strongly advised. See: https://urllib3.readthedocs.io/en/latest/advanced-usage.html#ssl-warnings\n",
      "\n",
      "/usr/local/lib/python3.5/dist-packages/urllib3/connectionpool.py:858: InsecureRequestWarning:\n",
      "\n",
      "Unverified HTTPS request is being made. Adding certificate verification is strongly advised. See: https://urllib3.readthedocs.io/en/latest/advanced-usage.html#ssl-warnings\n",
      "\n",
      "/usr/local/lib/python3.5/dist-packages/urllib3/connectionpool.py:858: InsecureRequestWarning:\n",
      "\n",
      "Unverified HTTPS request is being made. Adding certificate verification is strongly advised. See: https://urllib3.readthedocs.io/en/latest/advanced-usage.html#ssl-warnings\n",
      "\n"
     ]
    }
   ],
   "source": [
    "col1 , col2 , col3 , col4 = [], [], [], []\n",
    "for i in range(number_of_page):\n",
    "    if  i == 0:\n",
    "        input_url = url\n",
    "        col1 , col2, col3 , col4 = get_info(input_url)\n",
    "        \n",
    "    else:\n",
    "        A , B , C, D = [], [], [], []\n",
    "        input_url = url + '&P=' + str(i + 1)\n",
    "        A , B, C , D = get_info(input_url)\n",
    "        col1 = col1 + A[1:]\n",
    "        col2 = col2 + B[1:]\n",
    "        col3 = col3 + C[1:]\n",
    "        col4 = col4 + D[1:]\n",
    "        \n",
    "        \n",
    "        \n",
    "        "
   ]
  },
  {
   "cell_type": "markdown",
   "metadata": {},
   "source": [
    "We rename the colomns to get the better intutions of the fields"
   ]
  },
  {
   "cell_type": "code",
   "execution_count": 5,
   "metadata": {
    "collapsed": true
   },
   "outputs": [],
   "source": [
    "df=pd.DataFrame(col1,columns=['Number'])\n",
    "df['Job Title']=col2\n",
    "df['Number of Application']=col3\n",
    "df['Average Salary']=col4"
   ]
  },
  {
   "cell_type": "code",
   "execution_count": 6,
   "metadata": {
    "collapsed": true
   },
   "outputs": [],
   "source": [
    "df =  df.drop(df.index[0]) # Drop the header of first row"
   ]
  },
  {
   "cell_type": "code",
   "execution_count": 7,
   "metadata": {
    "collapsed": true
   },
   "outputs": [],
   "source": [
    "df = df.drop('Number',1)"
   ]
  },
  {
   "cell_type": "markdown",
   "metadata": {},
   "source": [
    "Remove extra spaces form the colomn "
   ]
  },
  {
   "cell_type": "code",
   "execution_count": 8,
   "metadata": {
    "collapsed": true
   },
   "outputs": [],
   "source": [
    "rem_comma = lambda s : s.replace(',','')\n",
    "rem_dollar = lambda s : s.replace('$','')\n",
    "\n",
    "df['Number of Application'] = df['Number of Application'].apply(rem_comma)\n",
    "df['Average Salary'] = df['Average Salary'].apply(rem_dollar)\n",
    "df['Average Salary'] = df['Average Salary'].apply(rem_comma)"
   ]
  },
  {
   "cell_type": "markdown",
   "metadata": {},
   "source": [
    "Get the info about the fields we created "
   ]
  },
  {
   "cell_type": "code",
   "execution_count": 9,
   "metadata": {},
   "outputs": [
    {
     "name": "stdout",
     "output_type": "stream",
     "text": [
      "<class 'pandas.core.frame.DataFrame'>\n",
      "Int64Index: 200 entries, 1 to 200\n",
      "Data columns (total 3 columns):\n",
      "Job Title                200 non-null object\n",
      "Number of Application    200 non-null object\n",
      "Average Salary           200 non-null object\n",
      "dtypes: object(3)\n",
      "memory usage: 6.2+ KB\n"
     ]
    }
   ],
   "source": [
    "df.info()"
   ]
  },
  {
   "cell_type": "markdown",
   "metadata": {},
   "source": [
    "Here we change the data types of the numeric field to correct format "
   ]
  },
  {
   "cell_type": "code",
   "execution_count": 10,
   "metadata": {
    "collapsed": true
   },
   "outputs": [],
   "source": [
    "df['Number of Application'] = df['Number of Application'].astype('int')\n",
    "df['Average Salary'] = df['Average Salary'].astype('int')"
   ]
  },
  {
   "cell_type": "markdown",
   "metadata": {},
   "source": [
    "Let's have the quick peek of our work "
   ]
  },
  {
   "cell_type": "code",
   "execution_count": 11,
   "metadata": {},
   "outputs": [
    {
     "data": {
      "text/html": [
       "<div>\n",
       "<style>\n",
       "    .dataframe thead tr:only-child th {\n",
       "        text-align: right;\n",
       "    }\n",
       "\n",
       "    .dataframe thead th {\n",
       "        text-align: left;\n",
       "    }\n",
       "\n",
       "    .dataframe tbody tr th {\n",
       "        vertical-align: top;\n",
       "    }\n",
       "</style>\n",
       "<table border=\"1\" class=\"dataframe\">\n",
       "  <thead>\n",
       "    <tr style=\"text-align: right;\">\n",
       "      <th></th>\n",
       "      <th>Job Title</th>\n",
       "      <th>Number of Application</th>\n",
       "      <th>Average Salary</th>\n",
       "    </tr>\n",
       "  </thead>\n",
       "  <tbody>\n",
       "    <tr>\n",
       "      <th>1</th>\n",
       "      <td>Programmer Analyst</td>\n",
       "      <td>53738</td>\n",
       "      <td>67421</td>\n",
       "    </tr>\n",
       "    <tr>\n",
       "      <th>2</th>\n",
       "      <td>Software Engineer</td>\n",
       "      <td>30666</td>\n",
       "      <td>95081</td>\n",
       "    </tr>\n",
       "    <tr>\n",
       "      <th>3</th>\n",
       "      <td>Software Developer</td>\n",
       "      <td>14038</td>\n",
       "      <td>76698</td>\n",
       "    </tr>\n",
       "    <tr>\n",
       "      <th>4</th>\n",
       "      <td>Systems Analyst</td>\n",
       "      <td>12311</td>\n",
       "      <td>70809</td>\n",
       "    </tr>\n",
       "    <tr>\n",
       "      <th>5</th>\n",
       "      <td>Computer Programmer</td>\n",
       "      <td>11668</td>\n",
       "      <td>67063</td>\n",
       "    </tr>\n",
       "  </tbody>\n",
       "</table>\n",
       "</div>"
      ],
      "text/plain": [
       "             Job Title  Number of Application  Average Salary\n",
       "1   Programmer Analyst                  53738           67421\n",
       "2    Software Engineer                  30666           95081\n",
       "3   Software Developer                  14038           76698\n",
       "4      Systems Analyst                  12311           70809\n",
       "5  Computer Programmer                  11668           67063"
      ]
     },
     "execution_count": 11,
     "metadata": {},
     "output_type": "execute_result"
    }
   ],
   "source": [
    "df.head()"
   ]
  },
  {
   "cell_type": "code",
   "execution_count": 12,
   "metadata": {},
   "outputs": [
    {
     "data": {
      "image/png": "[encoded data removed]",
      "text/plain": [
       "<matplotlib.figure.Figure at 0x7ff5e02f2978>"
      ]
     },
     "metadata": {},
     "output_type": "display_data"
    }
   ],
   "source": [
    "sns.boxplot(df['Average Salary'])\n",
    "plt.show()"
   ]
  },
  {
   "cell_type": "markdown",
   "metadata": {},
   "source": [
    "**Feature Engineering :** Let's include some more information to get some more insight about the data"
   ]
  },
  {
   "cell_type": "code",
   "execution_count": 13,
   "metadata": {
    "collapsed": true
   },
   "outputs": [],
   "source": [
    "def group_company(x):\n",
    "    \"\"\"This function catergories the data into three class small, medium and large.\"\"\"\n",
    "    if x < 65000:\n",
    "        return 'Small'\n",
    "    elif x < 100000:\n",
    "        return 'Medium'\n",
    "    else:\n",
    "        return 'Big'"
   ]
  },
  {
   "cell_type": "code",
   "execution_count": 14,
   "metadata": {
    "collapsed": true
   },
   "outputs": [],
   "source": [
    "df=df.rename(columns = {'Number of Application':'NumOfApp'})"
   ]
  },
  {
   "cell_type": "code",
   "execution_count": 15,
   "metadata": {
    "collapsed": true
   },
   "outputs": [],
   "source": [
    "df=df.rename(columns = {'Average Salary':'AvgSal'})"
   ]
  },
  {
   "cell_type": "code",
   "execution_count": 16,
   "metadata": {
    "collapsed": true
   },
   "outputs": [],
   "source": [
    "df=df.rename(columns = {'Job Title':'JobTitle'})"
   ]
  },
  {
   "cell_type": "code",
   "execution_count": 17,
   "metadata": {
    "collapsed": true
   },
   "outputs": [],
   "source": [
    "df['SalarySize'] = df.AvgSal.apply(group_company)"
   ]
  },
  {
   "cell_type": "code",
   "execution_count": 18,
   "metadata": {
    "collapsed": true
   },
   "outputs": [],
   "source": [
    "list_of_ds_comp = ['Business Analyst', 'Database Administrator', 'Data Analyst', 'Senior Business Analyst','Data Analyst 2', 'Analyst']"
   ]
  },
  {
   "cell_type": "code",
   "execution_count": 19,
   "metadata": {
    "collapsed": true
   },
   "outputs": [],
   "source": [
    "def per_cent(x):\n",
    "    \"\"\"This fuction converts the number into percentage\"\"\"\n",
    "    total = df.NumOfApp.sum()\n",
    "    return (x/total)*100\n",
    "\n",
    "def ds_cat(s):\n",
    "    \"\"\"This function flages potential data science catagories from the dataframe\"\"\"\n",
    "    if s in list_of_ds_comp: \n",
    "        x = 'M'\n",
    "    elif s == 'Data Scientist':\n",
    "        x = 'Y'\n",
    "    else:\n",
    "        x = 'N'\n",
    "    return x\n",
    "     \n",
    "    "
   ]
  },
  {
   "cell_type": "code",
   "execution_count": 20,
   "metadata": {
    "collapsed": true
   },
   "outputs": [],
   "source": [
    "df['PerApp'] = df.NumOfApp.apply(per_cent)"
   ]
  },
  {
   "cell_type": "code",
   "execution_count": 21,
   "metadata": {
    "collapsed": true
   },
   "outputs": [],
   "source": [
    "df['Is_data_science'] = df.JobTitle.apply(ds_cat)"
   ]
  },
  {
   "cell_type": "markdown",
   "metadata": {},
   "source": [
    "We have included two more catagories in our dataframes"
   ]
  },
  {
   "cell_type": "code",
   "execution_count": 22,
   "metadata": {},
   "outputs": [],
   "source": [
    "df_data_science = df[df.Is_data_science.str.contains('M') | df.Is_data_science.str.contains('Y')]"
   ]
  },
  {
   "cell_type": "code",
   "execution_count": 23,
   "metadata": {},
   "outputs": [
    {
     "data": {
      "text/plain": [
       "Index(['JobTitle', 'NumOfApp', 'AvgSal', 'SalarySize', 'PerApp',\n",
       "       'Is_data_science'],\n",
       "      dtype='object')"
      ]
     },
     "execution_count": 23,
     "metadata": {},
     "output_type": "execute_result"
    }
   ],
   "source": [
    "df_data_science.columns"
   ]
  },
  {
   "cell_type": "code",
   "execution_count": 24,
   "metadata": {},
   "outputs": [
    {
     "data": {
      "text/plain": [
       "<seaborn.axisgrid.FacetGrid at 0x7ff5de22fe80>"
      ]
     },
     "execution_count": 24,
     "metadata": {},
     "output_type": "execute_result"
    },
    {
     "data": {
      "image/png": "[encoded data removed]",
      "text/plain": [
       "<matplotlib.figure.Figure at 0x7ff5de250d30>"
      ]
     },
     "metadata": {},
     "output_type": "display_data"
    }
   ],
   "source": [
    "sns.factorplot(x ='JobTitle', y = 'NumOfApp', data = df_data_science, kind='bar', size=10)\n"
   ]
  },
  {
   "cell_type": "markdown",
   "metadata": {},
   "source": [
    "**Visualization :**Now get some visualizations to understand the big picture "
   ]
  },
  {
   "cell_type": "code",
   "execution_count": 25,
   "metadata": {},
   "outputs": [
    {
     "data": {
      "text/plain": [
       "<seaborn.axisgrid.FacetGrid at 0x7ff5de250da0>"
      ]
     },
     "execution_count": 25,
     "metadata": {},
     "output_type": "execute_result"
    },
    {
     "data": {
      "image/png": "[encoded data removed]",
      "text/plain": [
       "<matplotlib.figure.Figure at 0x7ff5de1f4630>"
      ]
     },
     "metadata": {},
     "output_type": "display_data"
    }
   ],
   "source": [
    "sns.factorplot(x ='JobTitle', y = 'AvgSal', data = df_data_science, kind='bar', size=10)"
   ]
  },
  {
   "cell_type": "markdown",
   "metadata": {},
   "source": [
    "This provides the intution that 60 percentage of the data is in medium range "
   ]
  },
  {
   "cell_type": "code",
   "execution_count": 26,
   "metadata": {},
   "outputs": [],
   "source": [
    "url_pos = \"https://www.myvisajobs.com/\""
   ]
  },
  {
   "cell_type": "code",
   "execution_count": 57,
   "metadata": {},
   "outputs": [],
   "source": [
    "\n",
    "\n",
    "def get_info_pos(title,url):\n",
    "    input_url = url + title.replace(\" \", \"-\") + \"-2017JT.htm\"\n",
    "    col1 , col2, col3 , col4 = get_info(input_url)\n",
    "    df=pd.DataFrame(col1,columns=['Number'])\n",
    "    df['Company']=col2\n",
    "    df['Number of Application']=col3\n",
    "    df['Average Salary']=col4\n",
    "    df =  df.drop(df.index[0]) # Drop the header of first row\n",
    "    df = df.drop('Number',1)\n",
    "    rem_comma = lambda s : s.replace(',','')\n",
    "    rem_dollar = lambda s : s.replace('$','')\n",
    "    df['Number of Application'] = df['Number of Application'].apply(rem_comma)\n",
    "    df['Average Salary'] = df['Average Salary'].apply(rem_dollar)\n",
    "    df['Average Salary'] = df['Average Salary'].apply(rem_comma)\n",
    "    df['Number of Application'] = df['Number of Application'].astype('int')\n",
    "    df['Average Salary'] = df['Average Salary'].astype('int')\n",
    "    return df\n",
    "    "
   ]
  },
  {
   "cell_type": "code",
   "execution_count": 44,
   "metadata": {},
   "outputs": [
    {
     "name": "stdout",
     "output_type": "stream",
     "text": [
      "https://www.myvisajobs.com/Data-Analyst-2017JT.htm\n"
     ]
    },
    {
     "name": "stderr",
     "output_type": "stream",
     "text": [
      "/usr/local/lib/python3.5/dist-packages/urllib3/connectionpool.py:858: InsecureRequestWarning:\n",
      "\n",
      "Unverified HTTPS request is being made. Adding certificate verification is strongly advised. See: https://urllib3.readthedocs.io/en/latest/advanced-usage.html#ssl-warnings\n",
      "\n"
     ]
    }
   ],
   "source": []
  },
  {
   "cell_type": "code",
   "execution_count": 45,
   "metadata": {},
   "outputs": [
    {
     "data": {
      "text/html": [
       "<div>\n",
       "<style>\n",
       "    .dataframe thead tr:only-child th {\n",
       "        text-align: right;\n",
       "    }\n",
       "\n",
       "    .dataframe thead th {\n",
       "        text-align: left;\n",
       "    }\n",
       "\n",
       "    .dataframe tbody tr th {\n",
       "        vertical-align: top;\n",
       "    }\n",
       "</style>\n",
       "<table border=\"1\" class=\"dataframe\">\n",
       "  <thead>\n",
       "    <tr style=\"text-align: right;\">\n",
       "      <th></th>\n",
       "      <th>Company</th>\n",
       "      <th>Number of Application</th>\n",
       "      <th>Average Salary</th>\n",
       "    </tr>\n",
       "  </thead>\n",
       "  <tbody>\n",
       "    <tr>\n",
       "      <th>1</th>\n",
       "      <td>Capgemini</td>\n",
       "      <td>272</td>\n",
       "      <td>77950</td>\n",
       "    </tr>\n",
       "    <tr>\n",
       "      <th>2</th>\n",
       "      <td>Edge It</td>\n",
       "      <td>28</td>\n",
       "      <td>63861</td>\n",
       "    </tr>\n",
       "    <tr>\n",
       "      <th>3</th>\n",
       "      <td>Comscore</td>\n",
       "      <td>23</td>\n",
       "      <td>71353</td>\n",
       "    </tr>\n",
       "    <tr>\n",
       "      <th>4</th>\n",
       "      <td>Bell Info Solutions</td>\n",
       "      <td>23</td>\n",
       "      <td>61796</td>\n",
       "    </tr>\n",
       "    <tr>\n",
       "      <th>5</th>\n",
       "      <td>Neo Prism Solutions</td>\n",
       "      <td>18</td>\n",
       "      <td>67278</td>\n",
       "    </tr>\n",
       "    <tr>\n",
       "      <th>6</th>\n",
       "      <td>California Creative Solutions</td>\n",
       "      <td>17</td>\n",
       "      <td>63371</td>\n",
       "    </tr>\n",
       "    <tr>\n",
       "      <th>7</th>\n",
       "      <td>Accenz</td>\n",
       "      <td>16</td>\n",
       "      <td>60000</td>\n",
       "    </tr>\n",
       "    <tr>\n",
       "      <th>8</th>\n",
       "      <td>Groupm Worldwide</td>\n",
       "      <td>13</td>\n",
       "      <td>67077</td>\n",
       "    </tr>\n",
       "    <tr>\n",
       "      <th>9</th>\n",
       "      <td>Microinfo</td>\n",
       "      <td>13</td>\n",
       "      <td>60330</td>\n",
       "    </tr>\n",
       "    <tr>\n",
       "      <th>10</th>\n",
       "      <td>Ulab</td>\n",
       "      <td>12</td>\n",
       "      <td>66625</td>\n",
       "    </tr>\n",
       "  </tbody>\n",
       "</table>\n",
       "</div>"
      ],
      "text/plain": [
       "                          Company  Number of Application  Average Salary\n",
       "1                       Capgemini                    272           77950\n",
       "2                         Edge It                     28           63861\n",
       "3                        Comscore                     23           71353\n",
       "4             Bell Info Solutions                     23           61796\n",
       "5             Neo Prism Solutions                     18           67278\n",
       "6   California Creative Solutions                     17           63371\n",
       "7                          Accenz                     16           60000\n",
       "8                Groupm Worldwide                     13           67077\n",
       "9                       Microinfo                     13           60330\n",
       "10                           Ulab                     12           66625"
      ]
     },
     "execution_count": 45,
     "metadata": {},
     "output_type": "execute_result"
    }
   ],
   "source": []
  },
  {
   "cell_type": "code",
   "execution_count": 61,
   "metadata": {
    "collapsed": true
   },
   "outputs": [],
   "source": [
    "import matplotlib.cm as cm"
   ]
  },
  {
   "cell_type": "code",
   "execution_count": 58,
   "metadata": {},
   "outputs": [],
   "source": [
    "for ele in list_of_ds_comp:\n",
    "    df_pos = get_info_pos(ele, url_pos)[:10]\n",
    "    df_pos\n",
    "    "
   ]
  },
  {
   "cell_type": "code",
   "execution_count": 87,
   "metadata": {},
   "outputs": [
    {
     "data": {
      "image/png": "[encoded data removed]",
      "text/plain": [
       "<matplotlib.figure.Figure at 0x7ff5dc9dd208>"
      ]
     },
     "metadata": {},
     "output_type": "display_data"
    }
   ],
   "source": [
    "# Choose some random colors\n",
    "N = len(df_pos)\n",
    "colors=cm.rainbow(np.random.rand(N))\n",
    "plt.figure(figsize=(20,8))\n",
    "\n",
    "# Use those colors as the color argument\n",
    "plt.scatter(df_pos['Number of Application'],df_pos['Average Salary'],s =df_pos['Average Salary'], color=colors)\n",
    "#plt.scatter(df_pos['Average Salary'],df_pos['Number of Application'], color=colors)\n",
    "for i in range(1,N+1):\n",
    "    plt.annotate(df_pos['Company'][i],xy=(df_pos['Average Salary'][i],df_pos['Number of Application'][i]))\n",
    "plt.xlabel('Size(*1000km2)')\n",
    "plt.ylabel('Population(ten million)')\n",
    "\n",
    "# Move title up with the \"y\" option\n",
    "plt.title('The Car Accidents Injuries Rate in 5 Canada Provinces')\n",
    "plt.show()"
   ]
  },
  {
   "cell_type": "code",
   "execution_count": null,
   "metadata": {
    "collapsed": true
   },
   "outputs": [],
   "source": [
    "#Creating a pivot table \n",
    "salary_pivot = df.pivot_table(index='Is_data_science',values='AvgSal', aggfunc=np.median)"
   ]
  },
  {
   "cell_type": "code",
   "execution_count": null,
   "metadata": {},
   "outputs": [],
   "source": [
    "salary_pivot"
   ]
  },
  {
   "cell_type": "markdown",
   "metadata": {},
   "source": [
    "Now lets see some relationship between median salary and size of the company "
   ]
  },
  {
   "cell_type": "code",
   "execution_count": null,
   "metadata": {},
   "outputs": [],
   "source": [
    "salary_pivot.plot(kind='bar',color='blue')\n",
    "plt.xlabel('Potential Data Science Company')\n",
    "plt.ylabel('Median Salary')\n",
    "plt.xticks(rotation=0)\n",
    "plt.show()"
   ]
  },
  {
   "cell_type": "markdown",
   "metadata": {},
   "source": [
    "Now lets see the relation between average salary and percentage of the application "
   ]
  },
  {
   "cell_type": "code",
   "execution_count": null,
   "metadata": {},
   "outputs": [],
   "source": [
    "plt.hist(df['AvgSal'])\n",
    "plt.show()"
   ]
  },
  {
   "cell_type": "markdown",
   "metadata": {},
   "source": [
    "The regression plot doesn't provide us the intutive value so lets try a new plotpy interactive graph"
   ]
  },
  {
   "cell_type": "code",
   "execution_count": null,
   "metadata": {},
   "outputs": [],
   "source": [
    "sns.regplot(x = 'NumOfApp', y = 'AvgSal', data = df)"
   ]
  },
  {
   "cell_type": "code",
   "execution_count": null,
   "metadata": {
    "collapsed": true
   },
   "outputs": [],
   "source": [
    "df_2007 = df.sort_values(['Company', 'AvgSal'])\n",
    "slope = 2.666051223553066e-2\n",
    "hover_text = []\n",
    "bubble_size = []\n",
    "\n",
    "for index, row in df_2007.iterrows():\n",
    "    hover_text.append(('Company: {Company}<br>'+\n",
    "                      'Average Salary: {AvgSal}<br>'+\n",
    "                      'Number of Application: {NumOfApp}').format(Company=row['Company'],\n",
    "                                            AvgSal=row['AvgSal'],\n",
    "                                            NumOfApp=row['NumOfApp']))\n",
    "    bubble_size.append(math.sqrt(row['AvgSal']*slope))\n",
    "\n",
    "df_2007['text'] = hover_text\n",
    "df_2007['size'] = bubble_size"
   ]
  },
  {
   "cell_type": "code",
   "execution_count": null,
   "metadata": {
    "collapsed": true
   },
   "outputs": [],
   "source": [
    "trace0 = go.Scatter(\n",
    "    x=df_2007['PerApp'][df_2007['SalarySize'] == 'Big'],\n",
    "    y=df_2007['AvgSal'][df_2007['SalarySize'] == 'Big'],\n",
    "    mode='markers',\n",
    "    name='Big( >100K)',\n",
    "    text=df_2007['text'][df_2007['SalarySize'] == 'Big'],\n",
    "    marker=dict(\n",
    "        symbol='circle',\n",
    "        sizemode='diameter',\n",
    "        sizeref=0.85,\n",
    "        size=df_2007['size'][df_2007['SalarySize'] == 'Big'],\n",
    "        line=dict(\n",
    "            width=2\n",
    "        ),\n",
    "    )\n",
    ")\n",
    "trace1 = go.Scatter(\n",
    "    x=df_2007['PerApp'][df_2007['SalarySize'] == 'Medium'],\n",
    "    y=df_2007['AvgSal'][df_2007['SalarySize'] == 'Medium'],\n",
    "    mode='markers',\n",
    "    name='Medium (100K<)',\n",
    "    text=df_2007['text'][df_2007['SalarySize'] == 'Medium'],\n",
    "    marker=dict(\n",
    "        sizemode='diameter',\n",
    "        sizeref=0.85,\n",
    "        size=df_2007['size'][df_2007['SalarySize'] == 'Medium'],\n",
    "        line=dict(\n",
    "            width=2\n",
    "        ),\n",
    "    )\n",
    ")\n",
    "trace2 = go.Scatter(\n",
    "    x=df_2007['PerApp'][df_2007['SalarySize'] == 'Small'],\n",
    "    y=df_2007['AvgSal'][df_2007['SalarySize'] == 'Small'],\n",
    "    mode='markers',\n",
    "    name='Small(65K<)',\n",
    "    text=df_2007['text'][df_2007['SalarySize'] == 'Small'],\n",
    "    marker=dict(\n",
    "        sizemode='diameter',\n",
    "        sizeref=0.85,\n",
    "        size=df_2007['size'][df_2007['SalarySize'] == 'Small'],\n",
    "        line=dict(\n",
    "            width=2\n",
    "        ),\n",
    "    )\n",
    ")\n"
   ]
  },
  {
   "cell_type": "code",
   "execution_count": null,
   "metadata": {
    "collapsed": true
   },
   "outputs": [],
   "source": []
  },
  {
   "cell_type": "code",
   "execution_count": null,
   "metadata": {
    "collapsed": true
   },
   "outputs": [],
   "source": [
    "\n",
    "\n",
    "data = [trace0, trace1, trace2 ]\n",
    "layout = go.Layout(\n",
    "    title='Average Salary v. Percentage of Application',\n",
    "    xaxis=dict(\n",
    "        title='Percentage of Application',\n",
    "        gridcolor='rgb(255, 255, 255)',\n",
    "        #range=[2.003297660701705, 5.191505530708712],\n",
    "        #type='log',\n",
    "        zerolinewidth=1,\n",
    "        ticklen=5,\n",
    "        gridwidth=2,\n",
    "    ),\n",
    "    yaxis=dict(\n",
    "        title='Average Salary',\n",
    "        gridcolor='rgb(255, 255, 255)',\n",
    "        #range=[36.12621671352166, 91.72921793264332],\n",
    "        zerolinewidth=1,\n",
    "        ticklen=5,\n",
    "        gridwidth=2,\n",
    "    ),\n",
    "    paper_bgcolor='rgb(243, 243, 243)',\n",
    "    plot_bgcolor='rgb(243, 243, 243)',\n",
    ")\n",
    "\n",
    "fig = go.Figure(data=data, layout=layout)\n",
    "iplot(fig, filename='H1B Visa application')"
   ]
  },
  {
   "cell_type": "markdown",
   "metadata": {},
   "source": [
    "This visual analysis shows the percentage of applications along with the average salaries for those visa. Majorities of visas go for the medium scale pay, large scale pay having less percentage of applications. \n",
    "Although we still have to consider lots of factors here, the position type and location but for this intial charts can be helpful to find the companies who file large portions of the applications. The salary expectation can also be taken out from this dashboard."
   ]
  }
 ],
 "metadata": {
  "kernelspec": {
   "display_name": "Python 3",
   "language": "python",
   "name": "python3"
  },
  "language_info": {
   "codemirror_mode": {
    "name": "ipython",
    "version": 3
   },
   "file_extension": ".py",
   "mimetype": "text/x-python",
   "name": "python",
   "nbconvert_exporter": "python",
   "pygments_lexer": "ipython3",
   "version": "3.5.2"
  }
 },
 "nbformat": 4,
 "nbformat_minor": 1
}
